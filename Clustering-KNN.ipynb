{
 "cells": [
  {
   "cell_type": "markdown",
   "id": "bcde7ca3",
   "metadata": {},
   "source": [
    "---\n",
    "# <center> *Machine Learning*\n",
    "## <center> Clustering: KNN\n",
    "---"
   ]
  },
  {
   "cell_type": "markdown",
   "id": "61acda76",
   "metadata": {},
   "source": [
    "# Introduction to K-Nearest Neighbors (KNN) Classification\n",
    "\n",
    "In this notebook, we will explore the **K-Nearest Neighbors (KNN)** algorithm — a simple yet powerful method for classification and regression.\n",
    "\n",
    "KNN is a **non-parametric, instance-based learning algorithm**:\n",
    "- It doesn’t build a model during training.\n",
    "- Instead, it memorizes the dataset and makes predictions by comparing new inputs to stored examples.\n",
    "\n",
    "---\n",
    "\n",
    "## What is KNN?\n",
    "\n",
    "The basic idea:\n",
    "\n",
    "- When we receive a new data point, we look at the **k closest points** (neighbors) from the training data.\n",
    "- For **classification**:\n",
    "  - The predicted class is the majority class among those neighbors.\n",
    "- For **regression**:\n",
    "  - The predicted value is the average of neighbors’ values.\n",
    "\n",
    "---\n",
    "\n",
    "## Example scenario:\n",
    "\n",
    "Suppose we have a dataset of points labeled as belonging to either Class A or Class B.\n",
    "\n",
    "When a new point arrives:\n",
    "\n",
    "1️⃣ We compute its distance to all training points.  \n",
    "2️⃣ We select the $k$ nearest points (neighbors).  \n",
    "3️⃣ We count the number of neighbors in each class.  \n",
    "4️⃣ We assign the new point to the most frequent class among its neighbors.\n",
    "\n",
    "---\n",
    "\n",
    "## Mathematical formulation\n",
    "\n",
    "### Distance metric:\n",
    "\n",
    "The most common distance measure is **Euclidean distance**:\n",
    "\n",
    "$$\n",
    "d(x, x') = \\sqrt{\\sum_{i=1}^d (x_i - x'_i)^2}\n",
    "$$\n",
    "\n",
    "where:\n",
    "- $x, x'$ are two points in $d$-dimensional space.\n",
    "\n",
    "---\n",
    "\n",
    "### Prediction rule (classification):\n",
    "\n",
    "Given a dataset:\n",
    "\n",
    "$$\n",
    "\\{ (x^{(1)}, y^{(1)}), (x^{(2)}, y^{(2)}), \\dots, (x^{(n)}, y^{(n)}) \\}\n",
    "$$\n",
    "\n",
    "where $x^{(i)}$ are the features and $y^{(i)}$ are the class labels.\n",
    "\n",
    "For a new point $x_{\\text{new}}$:\n",
    "- Find the $k$ nearest points to $x_{\\text{new}}$.\n",
    "- Let $N_k(x_{\\text{new}})$ denote this set.\n",
    "- Predict:\n",
    "\n",
    "$$\n",
    "\\hat{y} = \\text{majority_vote}\\{ y^{(i)} : x^{(i)} \\in N_k(x_{\\text{new}}) \\}\n",
    "$$\n",
    "\n",
    "---\n",
    "\n",
    "## Characteristics:\n",
    "\n",
    "- **Lazy learning:** no training phase, all computation happens at prediction time.\n",
    "- **Non-parametric:** no assumptions about data distribution.\n",
    "- Sensitive to:\n",
    "  - Choice of $k$.\n",
    "  - Distance metric.\n",
    "  - Scale of features (important to normalize).\n",
    "\n",
    "---\n",
    "\n",
    "This introduction prepares us for the next step:  \n",
    "We’ll generate example data, visualize it, and go through the KNN algorithm step-by-step.\n"
   ]
  },
  {
   "cell_type": "markdown",
   "id": "6d389ff5",
   "metadata": {},
   "source": [
    "## Step 1: Generate Example Data for KNN\n",
    "\n",
    "We will create a synthetic dataset for classification:\n",
    "\n",
    "- Two classes\n",
    "- Two features (for easy visualization)\n",
    "- Randomly generated points clustered around two centers\n",
    "\n",
    "This will help us visualize how KNN makes decisions.\n"
   ]
  },
  {
   "cell_type": "code",
   "execution_count": 17,
   "id": "afa6f11c",
   "metadata": {},
   "outputs": [
    {
     "data": {
      "image/png": "[encoded data removed]",
      "text/plain": [
       "<Figure size 432x432 with 1 Axes>"
      ]
     },
     "metadata": {
      "needs_background": "light"
     },
     "output_type": "display_data"
    }
   ],
   "source": [
    "import numpy as np\n",
    "import matplotlib.pyplot as plt\n",
    "from sklearn.datasets import make_classification\n",
    "\n",
    "# Generate synthetic 2D classification dataset\n",
    "X, y = make_classification(\n",
    "    n_samples=100,\n",
    "    n_features=2,\n",
    "    n_redundant=0,\n",
    "    n_informative=2,\n",
    "    n_clusters_per_class=1,\n",
    "    class_sep=1.5,\n",
    "    random_state=42\n",
    ")\n",
    "\n",
    "# Plot the dataset\n",
    "plt.figure(figsize=(6, 6))\n",
    "plt.scatter(X[y==0, 0], X[y==0, 1], color='blue', label='Class 0')\n",
    "plt.scatter(X[y==1, 0], X[y==1, 1], color='orange', label='Class 1')\n",
    "plt.title(\"Synthetic 2D Classification Data\")\n",
    "plt.xlabel(\"Feature 1\")\n",
    "plt.ylabel(\"Feature 2\")\n",
    "plt.legend()\n",
    "plt.grid(True)\n",
    "plt.show()\n"
   ]
  },
  {
   "cell_type": "markdown",
   "id": "f5d8760b",
   "metadata": {},
   "source": [
    "### What we did:\n",
    "\n",
    "- Created a dataset with 100 points, 2 features, and 2 classes.\n",
    "- The two classes are separated enough to show clear clusters.\n",
    "- This is a good example for illustrating KNN because we can see \"nearest neighbors\" visually.\n",
    "\n",
    "---\n",
    "\n",
    "Next, we will go step by step through the KNN prediction process:\n",
    "- Compute distances\n",
    "- Select $k$ nearest neighbors\n",
    "- Predict the class by majority vote\n"
   ]
  },
  {
   "cell_type": "markdown",
   "id": "f357a067",
   "metadata": {},
   "source": [
    "## Step 2: KNN Prediction Logic\n",
    "\n",
    "To classify a new point $x_{\\text{new}}$, KNN does the following:\n",
    "\n",
    "1️⃣ **Compute distances** between $x_{\\text{new}}$ and all training points.\n",
    "\n",
    "2️⃣ **Find $k$ nearest neighbors**:  \n",
    "Select the $k$ training points with the smallest distances.\n",
    "\n",
    "3️⃣ **Predict the class**:  \n",
    "Take a majority vote among the $k$ neighbors’ class labels.\n",
    "\n",
    "---\n",
    "\n",
    "In this step, we will manually compute the Euclidean distance for a test point and visualize it.\n"
   ]
  },
  {
   "cell_type": "code",
   "execution_count": null,
   "id": "f13e5afa",
   "metadata": {},
   "outputs": [],
   "source": [
    "def Euclidian_distance(A, B):\n",
    "    \"\"\"\n",
    "    A = [1, 3, 5]\n",
    "    B = [2, 6, 7]\n",
    "    \"\"\"\n",
    "    sum_diff = 0\n",
    "    for i in range(0, len(A)):\n",
    "        sum_diff = sum_diff + (A[i] - B[i]) ** 2\n",
    "        \n",
    "    return np.sqrt(sum_diff)"
   ]
  },
  {
   "cell_type": "code",
   "execution_count": 18,
   "id": "5404e523",
   "metadata": {},
   "outputs": [
    {
     "data": {
      "image/png": "[encoded data removed]",
      "text/plain": [
       "<Figure size 432x432 with 1 Axes>"
      ]
     },
     "metadata": {
      "needs_background": "light"
     },
     "output_type": "display_data"
    }
   ],
   "source": [
    "# Select a test point (for demonstration)\n",
    "x_new = np.array([0, 0])\n",
    "\n",
    "# Compute Euclidean distance from test point to each training point\n",
    "distances = np.linalg.norm(X - x_new, axis=1)\n",
    "\n",
    "# Plot training data and test point\n",
    "plt.figure(figsize=(6, 6))\n",
    "plt.scatter(X[y==0, 0], X[y==0, 1], color='blue', label='Class 0')\n",
    "plt.scatter(X[y==1, 0], X[y==1, 1], color='orange', label='Class 1')\n",
    "plt.scatter(x_new[0], x_new[1], color='red', marker='X', s=100, label='Test Point')\n",
    "plt.title(\"Test Point and Training Data\")\n",
    "plt.xlabel(\"Feature 1\")\n",
    "plt.ylabel(\"Feature 2\")\n",
    "plt.legend()\n",
    "plt.grid(True)\n",
    "plt.show()\n"
   ]
  },
  {
   "cell_type": "code",
   "execution_count": 19,
   "id": "abf2efb5",
   "metadata": {},
   "outputs": [
    {
     "data": {
      "text/plain": [
       "array([2.13718493, 2.22972971, 4.27888318, 2.14151914, 2.13434444,\n",
       "       2.02068899, 2.09614391, 0.93722786, 2.12552196, 2.69836676,\n",
       "       2.07483123, 2.12773629, 1.8117295 , 3.76403419, 4.8944615 ,\n",
       "       2.14140096, 2.04635984, 0.93768686, 1.51666737, 3.02789766,\n",
       "       2.1587646 , 4.89499032, 2.54034718, 1.47786313, 4.93624401,\n",
       "       1.07571189, 2.2856481 , 2.15935076, 2.31053434, 2.54575138,\n",
       "       2.01181689, 2.3720711 , 3.73793329, 2.17206451, 2.22994641,\n",
       "       2.09964754, 3.96642426, 2.26480375, 2.10770124, 2.52549721,\n",
       "       3.05383298, 0.9168608 , 0.62976509, 2.43034634, 2.19152268,\n",
       "       0.30878288, 2.05582584, 2.16139751, 2.27791541, 2.30869868,\n",
       "       1.71355066, 2.42604632, 2.22457355, 2.15282258, 2.16776142,\n",
       "       2.7138681 , 2.25311107, 1.71583527, 0.8384977 , 2.43791758,\n",
       "       1.80552837, 2.67577766, 1.80266196, 2.13659579, 2.25760414,\n",
       "       3.95261248, 3.21216997, 1.78192877, 2.48104021, 2.14246143,\n",
       "       1.59043954, 2.23879147, 0.41110225, 2.13764471, 2.76503256,\n",
       "       5.05472064, 2.1642541 , 3.42093474, 0.44508757, 2.14646727,\n",
       "       1.65334656, 2.5215005 , 0.4285311 , 2.34942681, 3.27699135,\n",
       "       2.15006661, 2.12656218, 2.05375216, 2.72318128, 0.80486897,\n",
       "       1.07995322, 2.27055127, 2.24547478, 0.91406068, 2.90637699,\n",
       "       2.16925687, 2.45554416, 2.20715976, 1.72443696, 2.23129782])"
      ]
     },
     "execution_count": 19,
     "metadata": {},
     "output_type": "execute_result"
    }
   ],
   "source": [
    "distances"
   ]
  },
  {
   "cell_type": "markdown",
   "id": "538dff2d",
   "metadata": {},
   "source": [
    "### Explanation:\n",
    "\n",
    "- The red \"X\" is the test point $x_{\\text{new}} = [0, 0]$.\n",
    "- We computed the Euclidean distance between this point and every training example.\n",
    "\n",
    "---\n",
    "\n",
    "Next, we will:\n",
    "- Sort the distances\n",
    "- Select the $k$ nearest points\n",
    "- Predict the test point’s class based on a majority vote.\n"
   ]
  },
  {
   "cell_type": "markdown",
   "id": "48d87331",
   "metadata": {},
   "source": [
    "## Step 3: Select $k$ Neighbors and Predict the Class\n",
    "\n",
    "Let’s choose $k = 5$.\n",
    "\n",
    "Process:\n",
    "1️⃣ **Sort distances** to find the indices of the 5 nearest neighbors.\n",
    "\n",
    "2️⃣ **Look up their labels**.\n",
    "\n",
    "3️⃣ **Predict** by taking the most common label (majority vote).\n"
   ]
  },
  {
   "cell_type": "code",
   "execution_count": 3,
   "id": "884b6405",
   "metadata": {},
   "outputs": [
    {
     "name": "stdout",
     "output_type": "stream",
     "text": [
      "Indices of nearest neighbors: [45 72 82 78 42]\n",
      "Labels of nearest neighbors: [1 1 1 1 1]\n",
      "Predicted class for test point: 1\n"
     ]
    }
   ],
   "source": [
    "k = 5\n",
    "\n",
    "# Find indices of the k smallest distances\n",
    "neighbor_indices = np.argsort(distances)[:k]\n",
    "\n",
    "# Get their labels\n",
    "neighbor_labels = y[neighbor_indices]\n",
    "\n",
    "# Predict the majority class\n",
    "from collections import Counter\n",
    "prediction = Counter(neighbor_labels).most_common(1)[0][0]\n",
    "\n",
    "print(f\"Indices of nearest neighbors: {neighbor_indices}\")\n",
    "print(f\"Labels of nearest neighbors: {neighbor_labels}\")\n",
    "print(f\"Predicted class for test point: {prediction}\")\n"
   ]
  },
  {
   "cell_type": "markdown",
   "id": "f7b170d9",
   "metadata": {},
   "source": [
    "### Explanation:\n",
    "\n",
    "- We sorted all distances from the test point to training points.\n",
    "- We selected the 5 points with the smallest distances.\n",
    "- We counted their labels to determine the most frequent class.\n",
    "\n",
    "---\n",
    "\n",
    "This is exactly how **KNN makes predictions** — no training phase, just compare and vote.\n",
    "\n",
    "Next, we will generalize this into a reusable function that can classify any test point.\n"
   ]
  },
  {
   "cell_type": "markdown",
   "id": "a7b8e2c2",
   "metadata": {},
   "source": [
    "## Step 4: Build a Reusable KNN Classifier Function\n",
    "\n",
    "Now we’ll create a Python function that:\n",
    "\n",
    "- Takes a test point (or multiple points),\n",
    "- Computes distances to all training points,\n",
    "- Selects the $k$ nearest neighbors,\n",
    "- Predicts the class by majority vote.\n",
    "\n",
    "This makes it easy to classify any new data.\n"
   ]
  },
  {
   "cell_type": "code",
   "execution_count": 4,
   "id": "da349952",
   "metadata": {},
   "outputs": [],
   "source": [
    "from collections import Counter\n",
    "import numpy as np\n",
    "\n",
    "def knn_predict(X_train, y_train, x_query, k=5):\n",
    "    \"\"\"\n",
    "    Predict the class of a single test point x_query using KNN.\n",
    "\n",
    "    Parameters:\n",
    "    X_train: training features (n_samples x n_features)\n",
    "    y_train: training labels (n_samples,)\n",
    "    x_query: test point (1 x n_features)\n",
    "    k: number of neighbors to use\n",
    "\n",
    "    Returns:\n",
    "    predicted class label\n",
    "    \"\"\"\n",
    "    # Compute distances\n",
    "    distances = np.linalg.norm(X_train - x_query, axis=1)\n",
    "    \n",
    "    # Find k nearest neighbors\n",
    "    neighbor_indices = np.argsort(distances)[:k]\n",
    "    neighbor_labels = y_train[neighbor_indices]\n",
    "    \n",
    "    # Majority vote\n",
    "    prediction = Counter(neighbor_labels).most_common(1)[0][0]\n",
    "    return prediction\n"
   ]
  },
  {
   "cell_type": "markdown",
   "id": "8dc9600d",
   "metadata": {},
   "source": [
    "### Explanation:\n",
    "\n",
    "This function is a **basic but complete KNN classifier for a single test point**.\n",
    "\n",
    "- Input: training data, labels, query point, k\n",
    "- Output: predicted class label\n",
    "- Key logic:\n",
    "  1. Compute distances.\n",
    "  2. Sort and get $k$ neighbors.\n",
    "  3. Majority vote.\n",
    "\n",
    "---\n",
    "\n",
    "Next: let’s **test this function on a few different points and visualize the predictions**.\n"
   ]
  },
  {
   "cell_type": "code",
   "execution_count": 5,
   "id": "3cdab9c8",
   "metadata": {},
   "outputs": [
    {
     "name": "stdout",
     "output_type": "stream",
     "text": [
      "Test point 1 [0 0] predicted class: 1\n",
      "Test point 2 [2 2] predicted class: 1\n",
      "Test point 3 [-2 -2] predicted class: 0\n"
     ]
    },
    {
     "data": {
      "image/png": "[encoded data removed]",
      "text/plain": [
       "<Figure size 432x432 with 1 Axes>"
      ]
     },
     "metadata": {
      "needs_background": "light"
     },
     "output_type": "display_data"
    }
   ],
   "source": [
    "# Define a few new test points\n",
    "test_points = np.array([\n",
    "    [0, 0],\n",
    "    [2, 2],\n",
    "    [-2, -2]\n",
    "])\n",
    "\n",
    "# Predict and display results\n",
    "for i, xq in enumerate(test_points):\n",
    "    pred = knn_predict(X, y, xq, k=5)\n",
    "    print(f\"Test point {i+1} {xq} predicted class: {pred}\")\n",
    "\n",
    "# Optional visualization\n",
    "plt.figure(figsize=(6, 6))\n",
    "plt.scatter(X[y==0, 0], X[y==0, 1], color='blue', label='Class 0')\n",
    "plt.scatter(X[y==1, 0], X[y==1, 1], color='orange', label='Class 1')\n",
    "plt.scatter(test_points[:, 0], test_points[:, 1], color='red', marker='X', s=100, label='Test Points')\n",
    "plt.title(\"Test Points and KNN Predictions\")\n",
    "plt.xlabel(\"Feature 1\")\n",
    "plt.ylabel(\"Feature 2\")\n",
    "plt.legend()\n",
    "plt.grid(True)\n",
    "plt.show()\n"
   ]
  },
  {
   "cell_type": "markdown",
   "id": "79269508",
   "metadata": {},
   "source": [
    "# Practical Considerations for Using KNN\n",
    "\n",
    "Before applying KNN in real scenarios, it’s important to think about a few key factors that affect its performance:\n",
    "\n",
    "---\n",
    "\n",
    "## Choosing $k$\n",
    "\n",
    "- $k=1$: very flexible (perfectly fits the training data) but **high variance** (can overfit and be noisy).\n",
    "- Large $k$: smoother predictions (averages over more neighbors) but can **underfit** (miss fine structure).\n",
    "\n",
    "### Best practice:\n",
    "- Use **cross-validation** to choose $k$.\n",
    "- A small odd value like $k=3$, $k=5$, or $k=7$ often works well for balanced binary classification.\n",
    "- Avoid setting $k$ too large relative to dataset size.\n",
    "\n",
    "---\n",
    "\n",
    "## Distance metric\n",
    "\n",
    "KNN depends heavily on the **distance measure**:\n",
    "\n",
    "- Most common: **Euclidean distance**.\n",
    "- Alternatives: Manhattan distance, Minkowski distance, etc.\n",
    "- If features have very different scales (e.g. age vs income), you must **standardize or normalize** them first.\n",
    "\n",
    "---\n",
    "\n",
    "## Curse of dimensionality\n",
    "\n",
    "- In high-dimensional spaces, distances become less meaningful.\n",
    "- KNN works best with **moderate numbers of features** (low dimensions) or when features have been carefully selected or reduced (e.g. with PCA).\n",
    "\n",
    "---\n",
    "\n",
    "## Weighted KNN\n",
    "\n",
    "Instead of equal votes from neighbors, we can:\n",
    "- **Weight neighbors by distance** (closer neighbors have more influence).\n",
    "- Many libraries (including `scikit-learn`) allow weighted voting easily.\n",
    "\n",
    "---\n",
    "\n",
    "## Summary:\n",
    "\n",
    "- **$k$ matters:** control complexity and generalization.\n",
    "- **Scale matters:** always normalize or standardize features.\n",
    "- **Distance matters:** choose metric carefully.\n",
    "- **Dimensionality matters:** avoid blindly applying KNN to high-dimensional data.\n",
    "\n",
    "---\n",
    "\n",
    "We now understand both **how KNN works** and **how to make good design choices in practice**.\n",
    "\n",
    "Next: We will use `scikit-learn`’s `KNeighborsClassifier` in an exercise.\n"
   ]
  },
  {
   "cell_type": "markdown",
   "id": "5578fdf2",
   "metadata": {},
   "source": [
    "# Additional Example: KNN on Overlapping Clusters\n",
    "\n",
    "In this example, we’ll:\n",
    "\n",
    "- Create two clusters that overlap.\n",
    "- Intentionally add some “interlopers” (points from each class inside the other).\n",
    "- Fit a KNN classifier and **visualize the decision boundary**.\n",
    "\n",
    "This helps illustrate how KNN behaves when the decision is not perfectly clear — and how $k$ affects that decision.\n",
    "\n",
    "---\n",
    "\n",
    "Even though KNN is not a clustering algorithm, it can \"draw a line\" (or surface) that separates groups based on proximity to neighbors.\n"
   ]
  },
  {
   "cell_type": "code",
   "execution_count": 12,
   "id": "fdcb2be3",
   "metadata": {},
   "outputs": [
    {
     "data": {
      "image/png": "[encoded data removed]",
      "text/plain": [
       "<Figure size 432x432 with 1 Axes>"
      ]
     },
     "metadata": {
      "needs_background": "light"
     },
     "output_type": "display_data"
    }
   ],
   "source": [
    "import numpy as np\n",
    "import matplotlib.pyplot as plt\n",
    "from sklearn.datasets import make_blobs\n",
    "\n",
    "# Generate two overlapping clusters\n",
    "X, y = make_blobs(n_samples=200, centers=2, cluster_std=3.0, random_state=42)\n",
    "\n",
    "plt.figure(figsize=(6, 6))\n",
    "plt.scatter(X[y==0, 0], X[y==0, 1], color='blue', label='Class 0')\n",
    "plt.scatter(X[y==1, 0], X[y==1, 1], color='orange', label='Class 1')\n",
    "plt.title(\"Overlapping Clusters with Interlopers\")\n",
    "plt.xlabel(\"Feature 1\")\n",
    "plt.ylabel(\"Feature 2\")\n",
    "plt.legend()\n",
    "plt.grid(True)\n",
    "plt.show()\n"
   ]
  },
  {
   "cell_type": "markdown",
   "id": "1e61acf7",
   "metadata": {},
   "source": [
    "### Explanation:\n",
    "\n",
    "- These are two clusters that overlap.\n",
    "- The spread (`cluster_std=2.0`) ensures some intermixing (\"interlopers\").\n",
    "- This is a realistic scenario where the decision boundary is **not obvious**.\n",
    "\n",
    "Next, we will apply KNN and visualize its **decision boundary**.\n"
   ]
  },
  {
   "cell_type": "code",
   "execution_count": 13,
   "id": "ef8307b9",
   "metadata": {},
   "outputs": [
    {
     "name": "stderr",
     "output_type": "stream",
     "text": [
      "/opt/anaconda3/lib/python3.8/site-packages/sklearn/neighbors/_classification.py:211: FutureWarning: Unlike other reduction functions (e.g. `skew`, `kurtosis`), the default behavior of `mode` typically preserves the axis it acts along. In SciPy 1.11.0, this behavior will change: the default value of `keepdims` will become False, the `axis` over which the statistic is taken will be eliminated, and the value None will no longer be accepted. Set `keepdims` to True or False to avoid this warning.\n",
      "  mode, _ = stats.mode(_y[neigh_ind, k], axis=1)\n"
     ]
    },
    {
     "data": {
      "image/png": "[encoded data removed]",
      "text/plain": [
       "<Figure size 576x432 with 1 Axes>"
      ]
     },
     "metadata": {
      "needs_background": "light"
     },
     "output_type": "display_data"
    }
   ],
   "source": [
    "from sklearn.neighbors import KNeighborsClassifier\n",
    "\n",
    "# Fit KNN with k=5\n",
    "k = 5\n",
    "model = KNeighborsClassifier(n_neighbors=k)\n",
    "model.fit(X, y)\n",
    "\n",
    "# Create grid for decision boundary visualization\n",
    "xx, yy = np.meshgrid(\n",
    "    np.linspace(X[:, 0].min() - 1, X[:, 0].max() + 1, 300),\n",
    "    np.linspace(X[:, 1].min() - 1, X[:, 1].max() + 1, 300)\n",
    ")\n",
    "grid_points = np.c_[xx.ravel(), yy.ravel()]\n",
    "Z = model.predict(grid_points).reshape(xx.shape)\n",
    "\n",
    "# Plot decision boundary\n",
    "plt.figure(figsize=(8, 6))\n",
    "plt.contourf(xx, yy, Z, alpha=0.3, cmap='coolwarm')\n",
    "plt.scatter(X[y==0, 0], X[y==0, 1], color='blue', edgecolor='k', label='Class 0')\n",
    "plt.scatter(X[y==1, 0], X[y==1, 1], color='orange', edgecolor='k', label='Class 1')\n",
    "plt.title(f\"KNN Decision Boundary (k={k}) on Overlapping Clusters\")\n",
    "plt.xlabel(\"Feature 1\")\n",
    "plt.ylabel(\"Feature 2\")\n",
    "plt.legend()\n",
    "plt.grid(True)\n",
    "plt.show()\n"
   ]
  },
  {
   "cell_type": "markdown",
   "id": "a2e4be4d",
   "metadata": {},
   "source": [
    "### Discussion:\n",
    "\n",
    "- The contour plot shows how KNN **separates overlapping clusters**.\n",
    "- KNN draws a **nonlinear boundary** shaped by the local density of neighbors.\n",
    "- As expected, some points lie close to the boundary — these are “ambiguous” cases where neighbors are mixed.\n",
    "\n",
    "---\n",
    "\n",
    "This is why KNN works well when clusters are roughly compact and separated but can struggle when there is overlap.\n",
    "\n",
    "✅ Now we’re ready for the exercise using `scikit-learn`'s `KNeighborsClassifier`.\n"
   ]
  },
  {
   "cell_type": "markdown",
   "id": "9451095d",
   "metadata": {},
   "source": [
    "# Exercise: Use Scikit-Learn’s Built-In KNeighborsClassifier\n",
    "\n",
    "Now that we’ve implemented KNN manually, let’s practice using `scikit-learn`’s built-in `KNeighborsClassifier`.\n",
    "\n",
    "You will:\n",
    "- Import the class\n",
    "- Create a model with `k=5`\n",
    "- Fit it to the training data\n",
    "- Predict class labels for new test points\n",
    "- Plot the predictions\n",
    "\n",
    "---\n",
    "\n",
    "### 📚 Documentation:\n",
    "- [KNeighborsClassifier Docs](https://scikit-learn.org/stable/modules/generated/sklearn.neighbors.KNeighborsClassifier.html)\n"
   ]
  },
  {
   "cell_type": "code",
   "execution_count": null,
   "id": "3ea32afd",
   "metadata": {},
   "outputs": [],
   "source": [
    "# TODO: Import KNeighborsClassifier from sklearn.neighbors\n",
    "from sklearn.neighbors import _____  # ← fill in here\n",
    "\n",
    "# TODO: Create a KNN model with k=5 neighbors\n",
    "model = KNeighborsClassifier(_____)  # ← fill in here"
   ]
  },
  {
   "cell_type": "markdown",
   "id": "19a7fbb0",
   "metadata": {},
   "source": [
    "## Step 2: Fit the KNN model\n",
    "\n",
    "Just like other `scikit-learn` models:\n",
    "- Use `.fit()` to train it on `(X, y)`.\n"
   ]
  },
  {
   "cell_type": "code",
   "execution_count": null,
   "id": "5f971126",
   "metadata": {},
   "outputs": [],
   "source": [
    "# TODO: Fit model on training data X, y\n",
    "model._____  # ← fill in here\n"
   ]
  },
  {
   "cell_type": "markdown",
   "id": "6a85f210",
   "metadata": {},
   "source": [
    "## Step 3: Predict class labels\n",
    "\n",
    "We’ll now predict classes for our `test_points` defined earlier.\n"
   ]
  },
  {
   "cell_type": "code",
   "execution_count": null,
   "id": "1611f2cf",
   "metadata": {},
   "outputs": [],
   "source": [
    "# TODO: Predict using the model\n",
    "predictions = model._____  # ← fill in here\n",
    "\n",
    "print(\"Predicted classes:\", predictions)\n"
   ]
  },
  {
   "cell_type": "markdown",
   "id": "1313f774",
   "metadata": {},
   "source": [
    "## Step 4: Visualize predictions\n",
    "\n",
    "We will show predicted labels visually on the scatter plot.\n"
   ]
  },
  {
   "cell_type": "code",
   "execution_count": null,
   "id": "d1f49d13",
   "metadata": {},
   "outputs": [],
   "source": [
    "plt.figure(figsize=(6, 6))\n",
    "plt.scatter(X[y==0, 0], X[y==0, 1], color='blue', label='Class 0')\n",
    "plt.scatter(X[y==1, 0], X[y==1, 1], color='orange', label='Class 1')\n",
    "\n",
    "# Plot test points with predicted label color\n",
    "for i, point in enumerate(test_points):\n",
    "    color = 'blue' if predictions[i] == 0 else 'orange'\n",
    "    plt.scatter(point[0], point[1], color=color, edgecolor='k', marker='X', s=100, label=f'Test Point {i+1}' if i==0 else \"\")\n",
    "\n",
    "plt.title(\"Scikit-Learn KNN Predictions\")\n",
    "plt.xlabel(\"Feature 1\")\n",
    "plt.ylabel(\"Feature 2\")\n",
    "plt.legend()\n",
    "plt.grid(True)\n",
    "plt.show()\n"
   ]
  },
  {
   "cell_type": "markdown",
   "id": "426a9d8a",
   "metadata": {},
   "source": [
    "### ✅ Well Done!\n",
    "\n",
    "You just used `scikit-learn`’s `KNeighborsClassifier`:\n",
    "- Define the model\n",
    "- Fit to training data\n",
    "- Predict for new points\n",
    "- Visualize the predictions\n",
    "\n",
    "---\n",
    "\n",
    "You can experiment further:\n",
    "- Try different `k` values\n",
    "- Plot decision boundaries\n",
    "- Normalize features (important for KNN sensitivity to scale!)\n"
   ]
  },
  {
   "cell_type": "code",
   "execution_count": null,
   "id": "025608ae",
   "metadata": {},
   "outputs": [],
   "source": []
  }
 ],
 "metadata": {
  "kernelspec": {
   "display_name": "Python 3",
   "language": "python",
   "name": "python3"
  },
  "language_info": {
   "codemirror_mode": {
    "name": "ipython",
    "version": 3
   },
   "file_extension": ".py",
   "mimetype": "text/x-python",
   "name": "python",
   "nbconvert_exporter": "python",
   "pygments_lexer": "ipython3",
   "version": "3.8.8"
  }
 },
 "nbformat": 4,
 "nbformat_minor": 5
}
